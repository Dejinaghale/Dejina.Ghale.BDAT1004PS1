{
 "cells": [
  {
   "cell_type": "markdown",
   "id": "fe9c3510",
   "metadata": {},
   "source": [
    "Question 1: Which data type is each of the following (evaluate when necessary)?"
   ]
  },
  {
   "cell_type": "markdown",
   "id": "ea0125a6",
   "metadata": {},
   "source": [
    "5 = Integer\n",
    "5.0 = Float\n",
    "5>1 = Boolean\n",
    "‘5’ = String\n",
    "5*2 = Integer \n",
    "‘5’*2 = String \n",
    "‘5’+’2’ = String \n",
    "5/2 = Float \n",
    "5%2 = Integer \n",
    "{5, 2, 1} = set\n",
    "5 == 3 = Boolean \n",
    "Pi (the number) = Float"
   ]
  },
  {
   "cell_type": "markdown",
   "id": "a5d498ea",
   "metadata": {},
   "source": []
  },
  {
   "cell_type": "markdown",
   "id": "4b83efa6",
   "metadata": {},
   "source": [
    "Question 2\n",
    "a. How many letters are there in 'Supercalifragilisticexpialidocious'?"
   ]
  },
  {
   "cell_type": "code",
   "execution_count": 10,
   "id": "c6369209",
   "metadata": {},
   "outputs": [
    {
     "name": "stdout",
     "output_type": "stream",
     "text": [
      "Answer. Number of letters: 34\n"
     ]
    }
   ],
   "source": [
    "word = 'Supercalifragilisticexpialidocious'\n",
    "letters_count = len(word)\n",
    "print(f\"Answer: Number of letters: {letters_count}\")"
   ]
  },
  {
   "cell_type": "markdown",
   "id": "34e3000c",
   "metadata": {},
   "source": []
  },
  {
   "cell_type": "markdown",
   "id": "55d634f0",
   "metadata": {},
   "source": [
    "b. Does 'Supercalifragilisticexpialidocious' contain 'ice' as a substring?"
   ]
  },
  {
   "cell_type": "code",
   "execution_count": 9,
   "id": "19b1f9f6",
   "metadata": {},
   "outputs": [
    {
     "name": "stdout",
     "output_type": "stream",
     "text": [
      "Answer: Contains 'ice': True\n"
     ]
    }
   ],
   "source": [
    "ice_count = 'ice' in word\n",
    "print(f\"Answer: Contains 'ice': {ice_count}\")"
   ]
  },
  {
   "cell_type": "markdown",
   "id": "9dd1d3cb",
   "metadata": {},
   "source": []
  },
  {
   "cell_type": "markdown",
   "id": "a2a8da05",
   "metadata": {},
   "source": [
    " c. Which of the following words is the longest:\n",
    " 'Supercalifragilisticexpialidocious', 'Honorificabilitudinitatibus', or\n",
    " 'Bababadalgharaghtakamminarronnkonn'?"
   ]
  },
  {
   "cell_type": "code",
   "execution_count": 11,
   "id": "d7ee5c91",
   "metadata": {},
   "outputs": [
    {
     "name": "stdout",
     "output_type": "stream",
     "text": [
      "Answer: Longest word : Supercalifragilisticexpialidocious\n"
     ]
    }
   ],
   "source": [
    "words = [\n",
    "    'Supercalifragilisticexpialidocious',\n",
    "    'Honorificabilitudinitatibus',\n",
    "    'Bababadalgharaghtakamminarronnkonn'\n",
    "]\n",
    "longest_word = max(words, key=len)\n",
    "print(f\"Answer: Longest word : {longest_word}\")"
   ]
  },
  {
   "cell_type": "markdown",
   "id": "a06da075",
   "metadata": {},
   "source": []
  },
  {
   "cell_type": "markdown",
   "id": "0369e957",
   "metadata": {},
   "source": [
    "d. Which composer comes first in the dictionary: 'Berlioz', 'Borodin', 'Brian',\n",
    " 'Bartok', 'Bellini', 'Buxtehude', 'Bernstein'. Which one comes last?"
   ]
  },
  {
   "cell_type": "code",
   "execution_count": 12,
   "id": "99323eeb",
   "metadata": {},
   "outputs": [
    {
     "name": "stdout",
     "output_type": "stream",
     "text": [
      "Answer: First composer: Bartok\n",
      "        Last composer: Buxtehude\n"
     ]
    }
   ],
   "source": [
    "composers_name = ['Berlioz', 'Borodin', 'Brian', 'Bartok', 'Bellini', 'Buxtehude', 'Bernstein']\n",
    "composer_first = min(composers_name)\n",
    "composer_last = max(composers_name)\n",
    "print(f\"Answer: First composer: {composer_first}\")\n",
    "print(f\"        Last composer: {composer_last}\")\n"
   ]
  },
  {
   "cell_type": "markdown",
   "id": "2be6fb4c",
   "metadata": {},
   "source": []
  },
  {
   "cell_type": "markdown",
   "id": "6ef08780",
   "metadata": {},
   "source": [
    "Question 3: Implement function triangleArea(a,b,c) that takes as input the lengths of the 3 sides of a triangle and returns the area of the triangle."
   ]
  },
  {
   "cell_type": "code",
   "execution_count": 45,
   "id": "998e4fcf",
   "metadata": {},
   "outputs": [],
   "source": [
    "import math"
   ]
  },
  {
   "cell_type": "code",
   "execution_count": 47,
   "id": "8feb00f2",
   "metadata": {},
   "outputs": [
    {
     "name": "stdout",
     "output_type": "stream",
     "text": [
      " Area: 1.7320508075688772\n"
     ]
    }
   ],
   "source": [
    "#Question 3\n",
    "def triangleArea(a, b, c):\n",
    "    # formula\n",
    "    s = (a + b + c) / 2\n",
    "    \n",
    "    # formula\n",
    "    area = math.sqrt(s * (s - a) * (s - b) * (s - c))\n",
    "    \n",
    "    return area\n",
    "\n",
    "# Test results\n",
    "result = triangleArea(2, 2, 2)\n",
    "print(f\" Area: {result}\")"
   ]
  },
  {
   "cell_type": "code",
   "execution_count": null,
   "id": "f6bd5ef9",
   "metadata": {},
   "outputs": [],
   "source": []
  },
  {
   "cell_type": "markdown",
   "id": "1f9f3d92",
   "metadata": {},
   "source": [
    "Question 4: Write a program in C# Sharp to separate odd and even integers in separate arrays."
   ]
  },
  {
   "cell_type": "code",
   "execution_count": 1,
   "id": "f887ffc0",
   "metadata": {},
   "outputs": [
    {
     "name": "stdout",
     "output_type": "stream",
     "text": [
      "Input the number of elements to be stored in the array: 5\n",
      "Element - 0 : 25\n",
      "Element - 1 : 47\n",
      "Element - 2 : 42\n",
      "Element - 3 : 56\n",
      "Element - 4 : 32\n",
      "The Even elements are:\n",
      "42 56 32\n",
      "The Odd elements are:\n",
      "25 47\n"
     ]
    }
   ],
   "source": [
    "\n",
    "def separate_odd_even(input_array):\n",
    "    even_numbers = []\n",
    "    odd_numbers = []\n",
    "\n",
    "    for num in input_array:\n",
    "        if num % 2 == 0:\n",
    "            even_numbers.append(num)\n",
    "        else:\n",
    "            odd_numbers.append(num)\n",
    "\n",
    "    return even_numbers, odd_numbers\n",
    "\n",
    "# Getting input from the user\n",
    "num_elements = int(input(\"Input the number of elements to be stored in the array: \"))\n",
    "\n",
    "#elements into an array\n",
    "input_array = []\n",
    "for i in range(num_elements):\n",
    "    element = int(input(f\"Element - {i} : \"))\n",
    "    input_array.append(element)\n",
    "\n",
    "# Calling function\n",
    "even_elements, odd_elements = separate_odd_even(input_array)\n",
    "\n",
    "print(\"The Even elements are:\")\n",
    "print(\" \".join(map(str, even_elements)))\n",
    "\n",
    "print(\"The Odd elements are:\")\n",
    "print(\" \".join(map(str, odd_elements)))"
   ]
  },
  {
   "cell_type": "code",
   "execution_count": null,
   "id": "664030de",
   "metadata": {},
   "outputs": [],
   "source": []
  },
  {
   "cell_type": "markdown",
   "id": "e955c1b3",
   "metadata": {},
   "source": [
    "Question 5: a. Write a function inside(x,y,x1,y1,x2,y2) that returns True or False depending on whether the point (x,y) lies in the rectangle with lower left corner (x1,y1) and upper right corner (x2,y2). b. Use function inside() from part a. to write an expression that tests whether the point (1,1) lies in both of the following rectangles: one with lower left corner (0.3, 0.5) and upper right corner (1.1, 0.7) and the other with lower left corner (0.5, 0.2) and upper right corner (1.1, 2)."
   ]
  },
  {
   "cell_type": "code",
   "execution_count": 7,
   "id": "89874561",
   "metadata": {},
   "outputs": [
    {
     "name": "stdout",
     "output_type": "stream",
     "text": [
      "result_a : True\n",
      "result_b : False\n",
      "Result: False\n"
     ]
    }
   ],
   "source": [
    "\n",
    "def inside(x, y, x1, y1, x2, y2):\n",
    "    # Checking\n",
    "    return x1 <= x <= x2 and y1 <= y <= y2\n",
    "\n",
    "# Testing\n",
    "result_a = inside(1, 1, 0, 0, 2, 3)\n",
    "print(f\"result_a : {result_a}\")  \n",
    "\n",
    "result_b = inside(-1,-1,0,0,2,3)\n",
    "print(f\"result_b : {result_b}\") \n",
    "\n",
    "result_b_rect1 = inside(1, 1, 0.3, 0.5, 1.1, 0.7)\n",
    "result_b_rect2 = inside(1, 1, 0.5, 0.2, 1.1, 2)\n",
    "\n",
    "result = result_b_rect1 and result_b_rect2\n",
    "print(f\"Result: {result}\") \n",
    "\n"
   ]
  },
  {
   "cell_type": "code",
   "execution_count": null,
   "id": "6fa537e3",
   "metadata": {},
   "outputs": [],
   "source": []
  },
  {
   "cell_type": "markdown",
   "id": "42ac978e",
   "metadata": {},
   "source": [
    "Question 6: Write a function pig() that takes a word (i.e., a string) as input and returns its pig-Latin form. Your function should still work if the input word contains upper case characters. "
   ]
  },
  {
   "cell_type": "code",
   "execution_count": 10,
   "id": "398b1b71",
   "metadata": {},
   "outputs": [
    {
     "name": "stdout",
     "output_type": "stream",
     "text": [
      "result1 : appyhay\n",
      "result2 : enterway\n"
     ]
    }
   ],
   "source": [
    "def pig(word):\n",
    "    # Converting into lowercase\n",
    "    word = word.lower()\n",
    "\n",
    "    if word[0] in ['a', 'e', 'i', 'o', 'u']:\n",
    "        return word + 'way'\n",
    "    else:\n",
    "        # Moving the first consonant to the end and append 'ay'\n",
    "        return word[1:] + word[0] + 'ay'\n",
    "\n",
    "result1 = pig('happy')\n",
    "result2 = pig('Enter')\n",
    "\n",
    "print(f\"result1 : {result1}\") \n",
    "print(f\"result2 : {result2}\") "
   ]
  },
  {
   "cell_type": "code",
   "execution_count": null,
   "id": "e480ff8b",
   "metadata": {},
   "outputs": [],
   "source": []
  },
  {
   "cell_type": "markdown",
   "id": "046a3c2f",
   "metadata": {},
   "source": [
    "Question 7: File bloodtype1.txt records blood-types of patients (A, B, AB, O or OO) at a clinic. Write a function bldcount() that reads the file with name name and reports (i.e., prints) how many patients there are in each bloodtype."
   ]
  },
  {
   "cell_type": "code",
   "execution_count": 40,
   "id": "cc09b837",
   "metadata": {},
   "outputs": [
    {
     "name": "stdout",
     "output_type": "stream",
     "text": [
      "There are 15 patients of blood type A.\n",
      "There is one patient of blood type B.\n",
      "There are 13 patients of blood type AB.\n",
      "There are 15 patients of blood type O.\n",
      "There are no patients of blood type OO.\n"
     ]
    }
   ],
   "source": [
    "#Question 7\n",
    "def bldcount(filename):\n",
    "    # storing the bloodtypes in dictionary\n",
    "    bloodtype_count = {'A': 0, 'B': 0, 'AB': 0, 'O': 0, 'OO': 0}\n",
    "\n",
    "    # counting the occurrences of blood types\n",
    "    with open(filename, 'r') as file:\n",
    "        \n",
    "        bloodtypes = file.read().strip().upper().split()\n",
    "\n",
    "        for bloodtype in bloodtypes:\n",
    "            # count increment\n",
    "            bloodtype_count[bloodtype] += 1\n",
    "\n",
    "    # Reporting the counts\n",
    "    for bloodtype, count in bloodtype_count.items():\n",
    "        if count == 1:\n",
    "            print(f'There is one patient of blood type {bloodtype}.')\n",
    "        elif count > 1:\n",
    "            print(f'There are {count} patients of blood type {bloodtype}.')\n",
    "        else:\n",
    "            print(f'There are no patients of blood type {bloodtype}.')\n",
    "\n",
    "\n",
    "bldcount('bloodtype1.txt')\n"
   ]
  },
  {
   "cell_type": "code",
   "execution_count": null,
   "id": "35dc0c2d",
   "metadata": {},
   "outputs": [],
   "source": []
  },
  {
   "cell_type": "markdown",
   "id": "dbe26e9e",
   "metadata": {},
   "source": [
    "Question 8: Write a function curconv() that takes as input:\n",
    "\n",
    "a currency represented using a string (e.g., 'JPY' for the Japanese Yen or 'EUR' for the Euro)\n",
    "an amount\n",
    "and then converts and returns the amount in US dollars."
   ]
  },
  {
   "cell_type": "code",
   "execution_count": 15,
   "id": "7bc709fd",
   "metadata": {},
   "outputs": [
    {
     "name": "stdout",
     "output_type": "stream",
     "text": [
      "result_eur: 122.96544\n",
      "result_jpy: 1.241401\n"
     ]
    }
   ],
   "source": [
    "def curconv(currency, amount):\n",
    "    # Reading currency rates\n",
    "    currency_rates = {}\n",
    "    with open('currencies.txt', 'r') as file:\n",
    "        for line in file:\n",
    "            code, rate, *name = line.split()\n",
    "            currency_rates[code] = float(rate)\n",
    "\n",
    "    # Converting to US dollars\n",
    "    if currency.upper() in currency_rates:\n",
    "        us_dollars = amount * currency_rates[currency.upper()]\n",
    "        return us_dollars\n",
    "    else:\n",
    "        return \"Invalid currency code\"\n",
    "\n",
    "eur = curconv('EUR', 100)\n",
    "jpy = curconv('JPY', 100)\n",
    "\n",
    "print(f\"result_eur: {eur}\") \n",
    "print(f\"result_jpy: {jpy}\")"
   ]
  },
  {
   "cell_type": "code",
   "execution_count": null,
   "id": "6c753393",
   "metadata": {},
   "outputs": [],
   "source": []
  },
  {
   "cell_type": "markdown",
   "id": "cb2856c7",
   "metadata": {},
   "source": [
    "Question 9: Each of the following will cause an exception (an error). Identify what type of exception each will cause."
   ]
  },
  {
   "cell_type": "markdown",
   "id": "3951d857",
   "metadata": {},
   "source": [
    "Adding incompatible variables:\n",
    "\n",
    "#Trying to add incompatible variables, as in adding 6 + ‘a’\n",
    "Exception Type: TypeError\n",
    "Explanation: we can not perform arithmetic calculation between two different data types\n",
    "\n",
    "#Referring to the 12th item of a list that has only 10 items\n",
    "Exception Type: IndexError\n",
    "Explanation: We cannot Index a list with an index that is not available in the list.\n",
    "Using a value that is out of range for a function's input, such as math.sqrt(1.0):\n",
    "\n",
    "#Using a value that is out of range for a function’s input, such as calling math.sqrt(-1.0)\n",
    "Exception Type: ValueError\n",
    "Explanation: The math.sqrt function does not support negative argument. \n",
    "\n",
    "#Using an undeclared variable, such as print(x) when x has not been defined\n",
    "Exception Type: NameError\n",
    "Explanation: If a variable is not defined then, it will not give output.\n",
    "Trying to open a file that does not exist:\n",
    "\n",
    "#Trying to open a file that does not exist, such as mistyping the file name or looking in the wrong directory.\n",
    "Exception Type: FileNotFoundError\n",
    "Explanation: In order to open a file, the file must exist in the same directory. Also, ensure that the filname has not been mistyped.\n"
   ]
  },
  {
   "cell_type": "markdown",
   "id": "685b83b8",
   "metadata": {},
   "source": [
    "Question 10: Encryption is the process of hiding the meaning of a text by substituting letters in the message with other letters, according to some system. If the process is successful, no one but the intended recipient can understand the encrypted message. Cryptanalysis refers to attempts to undo the encryption, even if some details of the encryption are unknown (for example, if an encrypted message has been intercepted). The first step of cryptanalysis is often to build up a table of letter frequencies in the encrypted text. Assume that the string letters is already defined as 'abcdefghijklmnopqrstuvwxyz'. Write a function called frequencies() that takes a string as its only parameter, and returns a list of integers, showing the number of times each character appears in the text. Your function may ignore any characters that are not in letters.\n",
    "\n",
    ">frequencies('The quick red fox got bored and went home.')\n",
    "\n",
    "[1, 1, 1, 3, 5, 1, 1, 2, 1, 0, 1, 0, 1, 2, 4, 0, 1, 2, 0, 2, 1, 0, 1, 1, 0, 0]\n",
    "\n",
    ">frequencies('apple')"
   ]
  },
  {
   "cell_type": "code",
   "execution_count": 53,
   "id": "9800982c",
   "metadata": {},
   "outputs": [
    {
     "name": "stdout",
     "output_type": "stream",
     "text": [
      "result_1: [1, 1, 1, 3, 5, 1, 1, 2, 1, 0, 1, 0, 1, 2, 4, 0, 1, 2, 0, 3, 1, 0, 1, 1, 0, 0]\n",
      "result_2 : [1, 0, 0, 0, 1, 0, 0, 0, 0, 0, 0, 1, 0, 0, 0, 2, 0, 0, 0, 0, 0, 0, 0, 0, 0, 0]\n"
     ]
    }
   ],
   "source": [
    "def frequencies(text):\n",
    "    # set of letters\n",
    "    letters = 'abcdefghijklmnopqrstuvwxyz'\n",
    "\n",
    "    #storing the frequencies\n",
    "    frequency_list = [0] * 26\n",
    "\n",
    "    # Iterating\n",
    "    for char in text:\n",
    "        # Converting to lowercase\n",
    "        char = char.lower()\n",
    "\n",
    "        # Checking if the character is a valid\n",
    "        if char in letters:\n",
    "            # frequency count\n",
    "            frequency_list[letters.index(char)] += 1\n",
    "\n",
    "    return frequency_list\n",
    "\n",
    "result1 = frequencies('The quick red fox got bored and went home.')\n",
    "result2 = frequencies('apple')\n",
    "\n",
    "print(f\"result_1: {result1}\") \n",
    "print(f\"result_2 : {result2}\") "
   ]
  },
  {
   "cell_type": "code",
   "execution_count": null,
   "id": "f057f872",
   "metadata": {},
   "outputs": [],
   "source": []
  }
 ],
 "metadata": {
  "kernelspec": {
   "display_name": "Python 3 (ipykernel)",
   "language": "python",
   "name": "python3"
  },
  "language_info": {
   "codemirror_mode": {
    "name": "ipython",
    "version": 3
   },
   "file_extension": ".py",
   "mimetype": "text/x-python",
   "name": "python",
   "nbconvert_exporter": "python",
   "pygments_lexer": "ipython3",
   "version": "3.11.5"
  }
 },
 "nbformat": 4,
 "nbformat_minor": 5
}
